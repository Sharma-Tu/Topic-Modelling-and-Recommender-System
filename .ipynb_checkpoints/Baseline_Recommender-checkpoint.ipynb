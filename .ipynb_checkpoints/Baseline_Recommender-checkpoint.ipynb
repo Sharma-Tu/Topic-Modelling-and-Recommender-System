{
 "cells": [
  {
   "cell_type": "code",
   "execution_count": 1,
   "metadata": {},
   "outputs": [
    {
     "data": {
      "text/plain": [
       "(2068055, 13)"
      ]
     },
     "execution_count": 1,
     "metadata": {},
     "output_type": "execute_result"
    }
   ],
   "source": [
    "\"\"\"Load data and convert to user-item-ratings relationship\"\"\"\n",
    "\n",
    "import load\n",
    "\n",
    "df = load.loadDF(1e10)\n",
    "\n",
    "#Slice required columns\n",
    "df_ratings = df[['reviewerID', 'asin', 'overall']]\n",
    "\n",
    "df.shape"
   ]
  },
  {
   "cell_type": "code",
   "execution_count": 2,
   "metadata": {},
   "outputs": [
    {
     "data": {
      "text/plain": [
       "reviewerID    0\n",
       "asin          0\n",
       "overall       0\n",
       "dtype: int64"
      ]
     },
     "execution_count": 2,
     "metadata": {},
     "output_type": "execute_result"
    }
   ],
   "source": [
    "df_ratings.isnull().sum()"
   ]
  },
  {
   "cell_type": "code",
   "execution_count": 3,
   "metadata": {},
   "outputs": [],
   "source": [
    "from surprise import Reader, Dataset\n",
    "reader = Reader()\n",
    "data = Dataset.load_from_df(df_ratings, reader)"
   ]
  },
  {
   "cell_type": "code",
   "execution_count": 4,
   "metadata": {},
   "outputs": [],
   "source": [
    "from surprise.model_selection import train_test_split\n",
    "\n",
    "trainset, testset = train_test_split(data, test_size=0.25)"
   ]
  },
  {
   "cell_type": "code",
   "execution_count": 15,
   "metadata": {},
   "outputs": [
    {
     "data": {
      "text/plain": [
       "<surprise.prediction_algorithms.matrix_factorization.SVD at 0x7fc47a812c88>"
      ]
     },
     "execution_count": 15,
     "metadata": {},
     "output_type": "execute_result"
    }
   ],
   "source": [
    "from surprise import SVD, accuracy\n",
    "algo = BaselineOnly(bsl_options=bsl_options)\n",
    "algo.fit(trainset)"
   ]
  },
  {
   "cell_type": "code",
   "execution_count": 16,
   "metadata": {},
   "outputs": [],
   "source": [
    "predictions_test = algo.test(testset)"
   ]
  },
  {
   "cell_type": "code",
   "execution_count": 17,
   "metadata": {
    "scrolled": true
   },
   "outputs": [
    {
     "name": "stdout",
     "output_type": "stream",
     "text": [
      "RMSE: 0.9078\n"
     ]
    },
    {
     "data": {
      "text/plain": [
       "0.9078469917336552"
      ]
     },
     "execution_count": 17,
     "metadata": {},
     "output_type": "execute_result"
    }
   ],
   "source": [
    "accuracy.rmse(predictions_test)"
   ]
  },
  {
   "cell_type": "code",
   "execution_count": 18,
   "metadata": {},
   "outputs": [
    {
     "name": "stdout",
     "output_type": "stream",
     "text": [
      "FCP:  0.5738\n"
     ]
    },
    {
     "data": {
      "text/plain": [
       "0.573810221646014"
      ]
     },
     "execution_count": 18,
     "metadata": {},
     "output_type": "execute_result"
    }
   ],
   "source": [
    "accuracy.fcp(predictions_test)"
   ]
  },
  {
   "cell_type": "code",
   "execution_count": 19,
   "metadata": {},
   "outputs": [
    {
     "data": {
      "text/plain": [
       "[Prediction(uid='A13JAFE47PMQ4U', iid='B00166BTD4', r_ui=4.0, est=4.225097266071221, details={'was_impossible': False}),\n",
       " Prediction(uid='A1RPECVQFB6RXZ', iid='B00002STNR', r_ui=5.0, est=4.847362100685896, details={'was_impossible': False}),\n",
       " Prediction(uid='AYOCOHQOS1O1U', iid='B00MJCNKLS', r_ui=5.0, est=4.673194094209777, details={'was_impossible': False}),\n",
       " Prediction(uid='A2S1OM7M00YM3Q', iid='B000YQIWAA', r_ui=5.0, est=4.625047615162164, details={'was_impossible': False}),\n",
       " Prediction(uid='A3O0KKQBWVOFWY', iid='B00HFJWKWK', r_ui=4.0, est=4.463799928540493, details={'was_impossible': False}),\n",
       " Prediction(uid='A1SLHTYBLKTIQ6', iid='B004UUAJA2', r_ui=5.0, est=4.731592366232155, details={'was_impossible': False}),\n",
       " Prediction(uid='A2G6X3AZ0ALCRT', iid='B004QIQN6M', r_ui=5.0, est=4.670253800690836, details={'was_impossible': False}),\n",
       " Prediction(uid='A9X9C5JGTX2J9', iid='B001PT6Y28', r_ui=5.0, est=4.600313628942351, details={'was_impossible': False}),\n",
       " Prediction(uid='A14FOMCVUBEANJ', iid='B01BEELH52', r_ui=5.0, est=4.5365437597169445, details={'was_impossible': False}),\n",
       " Prediction(uid='A1ZYWYMO2NQUSQ', iid='B001443Q34', r_ui=5.0, est=4.785934817608131, details={'was_impossible': False})]"
      ]
     },
     "execution_count": 19,
     "metadata": {},
     "output_type": "execute_result"
    }
   ],
   "source": [
    "predictions_test[0:10]"
   ]
  }
 ],
 "metadata": {
  "kernelspec": {
   "display_name": "Python 3",
   "language": "python",
   "name": "python3"
  },
  "language_info": {
   "codemirror_mode": {
    "name": "ipython",
    "version": 3
   },
   "file_extension": ".py",
   "mimetype": "text/x-python",
   "name": "python",
   "nbconvert_exporter": "python",
   "pygments_lexer": "ipython3",
   "version": "3.7.0"
  }
 },
 "nbformat": 4,
 "nbformat_minor": 2
}
