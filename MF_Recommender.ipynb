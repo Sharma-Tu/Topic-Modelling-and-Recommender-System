{
 "cells": [
  {
   "cell_type": "code",
   "execution_count": 3,
   "metadata": {},
   "outputs": [
    {
     "data": {
      "text/plain": [
       "(2068055, 13)"
      ]
     },
     "execution_count": 3,
     "metadata": {},
     "output_type": "execute_result"
    }
   ],
   "source": [
    "\"\"\"Load data and convert to user-item-ratings relationship\"\"\"\n",
    "\n",
    "import load\n",
    "\n",
    "df = load.loadDF(1e10)\n",
    "\n",
    "#Slice required columns\n",
    "df_ratings = df[['reviewerID', 'asin', 'overall']]\n",
    "\n",
    "df.shape"
   ]
  },
  {
   "cell_type": "code",
   "execution_count": 4,
   "metadata": {},
   "outputs": [
    {
     "data": {
      "text/plain": [
       "reviewerID    0\n",
       "asin          0\n",
       "overall       0\n",
       "dtype: int64"
      ]
     },
     "execution_count": 4,
     "metadata": {},
     "output_type": "execute_result"
    }
   ],
   "source": [
    "df_ratings.isnull().sum()"
   ]
  },
  {
   "cell_type": "code",
   "execution_count": 5,
   "metadata": {},
   "outputs": [],
   "source": [
    "from surprise import Reader, Dataset\n",
    "reader = Reader()\n",
    "data = Dataset.load_from_df(df_ratings, reader)"
   ]
  },
  {
   "cell_type": "code",
   "execution_count": 6,
   "metadata": {},
   "outputs": [],
   "source": [
    "from surprise.model_selection import train_test_split\n",
    "\n",
    "trainset, testset = train_test_split(data, test_size=0.25)"
   ]
  },
  {
   "cell_type": "code",
   "execution_count": 17,
   "metadata": {},
   "outputs": [
    {
     "data": {
      "text/plain": [
       "<surprise.prediction_algorithms.matrix_factorization.SVD at 0x7f82196fd048>"
      ]
     },
     "execution_count": 17,
     "metadata": {},
     "output_type": "execute_result"
    }
   ],
   "source": [
    "from surprise import SVD, accuracy\n",
    "algo =  SVD(biased=True)\n",
    "algo.fit(trainset)"
   ]
  },
  {
   "cell_type": "code",
   "execution_count": 18,
   "metadata": {},
   "outputs": [],
   "source": [
    "predictions_test = algo.test(testset)"
   ]
  },
  {
   "cell_type": "code",
   "execution_count": 19,
   "metadata": {
    "scrolled": true
   },
   "outputs": [
    {
     "name": "stdout",
     "output_type": "stream",
     "text": [
      "RMSE: 0.9086\n"
     ]
    },
    {
     "data": {
      "text/plain": [
       "0.9085565023392784"
      ]
     },
     "execution_count": 19,
     "metadata": {},
     "output_type": "execute_result"
    }
   ],
   "source": [
    "accuracy.rmse(predictions_test)"
   ]
  },
  {
   "cell_type": "code",
   "execution_count": 20,
   "metadata": {},
   "outputs": [
    {
     "name": "stdout",
     "output_type": "stream",
     "text": [
      "FCP:  0.5745\n"
     ]
    },
    {
     "data": {
      "text/plain": [
       "0.5745023819528333"
      ]
     },
     "execution_count": 20,
     "metadata": {},
     "output_type": "execute_result"
    }
   ],
   "source": [
    "accuracy.fcp(predictions_test)"
   ]
  },
  {
   "cell_type": "code",
   "execution_count": 21,
   "metadata": {},
   "outputs": [
    {
     "data": {
      "text/plain": [
       "[Prediction(uid='A2FBXQXTLYH27A', iid='B0017KYE5Y', r_ui=1.0, est=3.433508427357383, details={'was_impossible': False}),\n",
       " Prediction(uid='AS5NMV6ZB8479', iid='B00DV8Z4O0', r_ui=5.0, est=4.767959847017735, details={'was_impossible': False}),\n",
       " Prediction(uid='A3JHNZBGAWPRUT', iid='B00TKLFOLK', r_ui=5.0, est=4.62516778868134, details={'was_impossible': False}),\n",
       " Prediction(uid='A3MQ6IHQAVZVQB', iid='B000YZ4ECQ', r_ui=2.0, est=3.2730648178548902, details={'was_impossible': False}),\n",
       " Prediction(uid='A3OQL5XKKM4IL6', iid='B00114RIIQ', r_ui=5.0, est=4.515715595972766, details={'was_impossible': False}),\n",
       " Prediction(uid='A3H253SDC1F7CX', iid='B01EMYN18M', r_ui=5.0, est=4.353801719223527, details={'was_impossible': False}),\n",
       " Prediction(uid='A2ED1OJQFE7A3H', iid='B00BVS37W8', r_ui=4.0, est=4.078469843969693, details={'was_impossible': False}),\n",
       " Prediction(uid='A1LTSSPTVYUQ7E', iid='B000ZPFH44', r_ui=5.0, est=4.943742165927107, details={'was_impossible': False}),\n",
       " Prediction(uid='A38GDD3T51JGBL', iid='B00NPBUWRC', r_ui=4.0, est=4.288045578799286, details={'was_impossible': False}),\n",
       " Prediction(uid='A2ST4IM5AU1C30', iid='B0053BQN34', r_ui=3.0, est=3.563338971438829, details={'was_impossible': False})]"
      ]
     },
     "execution_count": 21,
     "metadata": {},
     "output_type": "execute_result"
    }
   ],
   "source": [
    "predictions_test[0:10]"
   ]
  }
 ],
 "metadata": {
  "kernelspec": {
   "display_name": "Python 3",
   "language": "python",
   "name": "python3"
  },
  "language_info": {
   "codemirror_mode": {
    "name": "ipython",
    "version": 3
   },
   "file_extension": ".py",
   "mimetype": "text/x-python",
   "name": "python",
   "nbconvert_exporter": "python",
   "pygments_lexer": "ipython3",
   "version": "3.7.0"
  }
 },
 "nbformat": 4,
 "nbformat_minor": 2
}
