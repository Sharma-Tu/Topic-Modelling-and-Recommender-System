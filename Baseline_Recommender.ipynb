{
 "cells": [
  {
   "cell_type": "code",
   "execution_count": 2,
   "metadata": {},
   "outputs": [
    {
     "data": {
      "text/plain": [
       "(2068055, 13)"
      ]
     },
     "execution_count": 2,
     "metadata": {},
     "output_type": "execute_result"
    }
   ],
   "source": [
    "\"\"\"Load data and convert to user-item-ratings relationship\"\"\"\n",
    "\n",
    "import load\n",
    "\n",
    "df = load.loadDF(1e10)\n",
    "\n",
    "#Slice required columns\n",
    "df_ratings = df[['reviewerID', 'asin', 'overall']]\n",
    "\n",
    "df.shape"
   ]
  },
  {
   "cell_type": "code",
   "execution_count": 3,
   "metadata": {},
   "outputs": [
    {
     "data": {
      "text/plain": [
       "reviewerID    0\n",
       "asin          0\n",
       "overall       0\n",
       "dtype: int64"
      ]
     },
     "execution_count": 3,
     "metadata": {},
     "output_type": "execute_result"
    }
   ],
   "source": [
    "df_ratings.isnull().sum()"
   ]
  },
  {
   "cell_type": "code",
   "execution_count": 4,
   "metadata": {},
   "outputs": [],
   "source": [
    "from surprise import Reader, Dataset\n",
    "reader = Reader()\n",
    "data = Dataset.load_from_df(df_ratings, reader)"
   ]
  },
  {
   "cell_type": "code",
   "execution_count": 5,
   "metadata": {},
   "outputs": [],
   "source": [
    "from surprise.model_selection import train_test_split\n",
    "\n",
    "trainset, testset = train_test_split(data, test_size=0.25)"
   ]
  },
  {
   "cell_type": "code",
   "execution_count": 7,
   "metadata": {},
   "outputs": [
    {
     "name": "stdout",
     "output_type": "stream",
     "text": [
      "Estimating biases using sgd...\n"
     ]
    },
    {
     "data": {
      "text/plain": [
       "<surprise.prediction_algorithms.baseline_only.BaselineOnly at 0x7f91b05ce9b0>"
      ]
     },
     "execution_count": 7,
     "metadata": {},
     "output_type": "execute_result"
    }
   ],
   "source": [
    "from surprise import BaselineOnly, accuracy\n",
    "algo = BaselineOnly(bsl_options={'method': 'sgd','learning_rate': .00005})\n",
    "algo.fit(trainset)"
   ]
  },
  {
   "cell_type": "code",
   "execution_count": 11,
   "metadata": {},
   "outputs": [],
   "source": [
    "predictions_test = algo.test(testset)"
   ]
  },
  {
   "cell_type": "code",
   "execution_count": 12,
   "metadata": {
    "scrolled": true
   },
   "outputs": [
    {
     "name": "stdout",
     "output_type": "stream",
     "text": [
      "RMSE: 1.0317\n"
     ]
    },
    {
     "data": {
      "text/plain": [
       "1.0317380677030947"
      ]
     },
     "execution_count": 12,
     "metadata": {},
     "output_type": "execute_result"
    }
   ],
   "source": [
    "accuracy.rmse(predictions_test)"
   ]
  },
  {
   "cell_type": "code",
   "execution_count": 13,
   "metadata": {},
   "outputs": [
    {
     "name": "stdout",
     "output_type": "stream",
     "text": [
      "FCP:  0.5665\n"
     ]
    },
    {
     "data": {
      "text/plain": [
       "0.5664618086630713"
      ]
     },
     "execution_count": 13,
     "metadata": {},
     "output_type": "execute_result"
    }
   ],
   "source": [
    "accuracy.fcp(predictions_test)"
   ]
  },
  {
   "cell_type": "code",
   "execution_count": 24,
   "metadata": {},
   "outputs": [
    {
     "data": {
      "text/plain": [
       "[Prediction(uid='A13JAFE47PMQ4U', iid='B00166BTD4', r_ui=4.0, est=4.4298549454335125, details={'was_impossible': False}),\n",
       " Prediction(uid='A1RPECVQFB6RXZ', iid='B00002STNR', r_ui=5.0, est=4.434589175588018, details={'was_impossible': False}),\n",
       " Prediction(uid='AYOCOHQOS1O1U', iid='B00MJCNKLS', r_ui=5.0, est=4.44141857287527, details={'was_impossible': False}),\n",
       " Prediction(uid='A2S1OM7M00YM3Q', iid='B000YQIWAA', r_ui=5.0, est=4.4502176007432634, details={'was_impossible': False}),\n",
       " Prediction(uid='A3O0KKQBWVOFWY', iid='B00HFJWKWK', r_ui=4.0, est=4.452732797893706, details={'was_impossible': False}),\n",
       " Prediction(uid='A1SLHTYBLKTIQ6', iid='B004UUAJA2', r_ui=5.0, est=4.441054897702557, details={'was_impossible': False}),\n",
       " Prediction(uid='A2G6X3AZ0ALCRT', iid='B004QIQN6M', r_ui=5.0, est=4.439172043686334, details={'was_impossible': False}),\n",
       " Prediction(uid='A9X9C5JGTX2J9', iid='B001PT6Y28', r_ui=5.0, est=4.432783223317303, details={'was_impossible': False}),\n",
       " Prediction(uid='A14FOMCVUBEANJ', iid='B01BEELH52', r_ui=5.0, est=4.433635601738081, details={'was_impossible': False}),\n",
       " Prediction(uid='A1ZYWYMO2NQUSQ', iid='B001443Q34', r_ui=5.0, est=4.491116360325773, details={'was_impossible': False})]"
      ]
     },
     "execution_count": 24,
     "metadata": {},
     "output_type": "execute_result"
    }
   ],
   "source": [
    "predictions_test[0:10]"
   ]
  }
 ],
 "metadata": {
  "kernelspec": {
   "display_name": "Python 3",
   "language": "python",
   "name": "python3"
  }
 },
 "nbformat": 4,
 "nbformat_minor": 2
}
